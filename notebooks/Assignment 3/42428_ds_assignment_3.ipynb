{
  "cells": [
    {
      "cell_type": "markdown",
      "metadata": {
        "id": "ZkuM4UGhbk_e"
      },
      "source": [
        "\n",
        "#**Machine Learning And Data Science Laboratory(410501)**\n",
        "\n",
        "#BE Sem I Honors in ML&DS\n",
        "\n",
        "#Academic Year: 2022-23\n",
        "\n",
        "#Lab Assignment No.3\n",
        "\n"
      ]
    },
    {
      "cell_type": "markdown",
      "metadata": {
        "id": "6xtwZvz3tr4b"
      },
      "source": [
        "**NAME : AISHWARYA KAMBLE**\n",
        "\n",
        "**ROLL NO : 42428**\n",
        "\n",
        "**PRN NO : 72016920J**\n",
        "\n",
        "**ABC ID : 594-165-436-179**\n",
        "\n",
        "**BRANCH : E&TC**\n",
        "\n",
        "**COLLEGE : PICT**"
      ]
    },
    {
      "cell_type": "code",
      "execution_count": null,
      "metadata": {
        "colab": {
          "base_uri": "https://localhost:8080/"
        },
        "id": "wxN-b1kMxUr8",
        "outputId": "14ea60a6-873f-431c-e854-a462f88eb880"
      },
      "outputs": [
        {
          "name": "stderr",
          "output_type": "stream",
          "text": [
            "/usr/local/lib/python3.7/dist-packages/ipykernel_launcher.py:31: RuntimeWarning: invalid value encountered in double_scalars\n",
            "/usr/local/lib/python3.7/dist-packages/ipykernel_launcher.py:43: RuntimeWarning: divide by zero encountered in double_scalars\n"
          ]
        },
        {
          "name": "stdout",
          "output_type": "stream",
          "text": [
            "input is:\n",
            "[[ 1  1  1]\n",
            " [ 1 -1  1]\n",
            " [-1  1  1]\n",
            " [-1 -1  1]]\n",
            "output for And Gate is: \n",
            "[[ 1]\n",
            " [-1]\n",
            " [-1]\n",
            " [-1]]\n",
            "output for Or Gate is: \n",
            "[[ 1]\n",
            " [-1]\n",
            " [-1]\n",
            " [-1]]\n",
            "[0. 0. 0.]\n",
            "Checking after learning selectg a input\n",
            "Enter the test case no you want to try2\n",
            "Select a logic you also want  to check\n",
            "A\n",
            "[ 2.  2. -2.]\n",
            "selected input is 2 \n",
            "[-1  1  1]\n",
            "-1\n"
          ]
        }
      ],
      "source": [
        "import numpy as np \n",
        "from random import randint\n",
        "#inputs \n",
        "\n",
        "X=np.array([[1,1,1],[1,-1,1],[-1,1,1],[-1,-1,1]])\n",
        "#output\n",
        "Y_ad=np.array([[1],[-1],[-1],[-1]])\n",
        "Y_o=np.array([[1],[1],[1],[-1]])\n",
        "\n",
        "\n",
        "\n",
        "print('input is:')\n",
        "print(X)\n",
        "print('output for And Gate is: ')\n",
        "print(Y_ad)\n",
        "print('output for Or Gate is: ')\n",
        "print(Y_ad)\n",
        "weights_ad=np.zeros((3))\n",
        "weights_o=np.zeros((3))\n",
        "print(weights_ad)\n",
        "\n",
        "\n",
        "# update weight for and gate /logic\n",
        "def update_weight_ad(X,Y,weights):\n",
        "    for i in range(4):\n",
        "         \n",
        "        weights=weights+X[i]*Y[i]\n",
        "        \n",
        "        #print weights\n",
        "        slope =-(weights[0]/weights[1])\n",
        "        c=-(weights[2]/weights[0])\n",
        "        if slope<0 and weights[0]>0:\n",
        "            weights_main=weights\n",
        "        \n",
        "    return weights_main\n",
        "            \n",
        "def update_weight_o(X,Y,weights):\n",
        "    for i in range(4):\n",
        "         \n",
        "        weights=weights+X[i]*Y[i]\n",
        "        \n",
        "        #print weights\n",
        "        slope =-(weights[0]/weights[1])\n",
        "        c=-(weights[2]/weights[0])\n",
        "        if slope<0 and weights[0]>0:\n",
        "            weights_main=weights\n",
        "        \n",
        "    return weights_main\n",
        "        \n",
        "        \n",
        "    \n",
        "weights_ad=update_weight_ad(X,Y_ad,weights_ad)\n",
        "weights_o=update_weight_o(X,Y_o,weights_o)\n",
        "\n",
        "\n",
        "print('Checking after learning selectg a input')\n",
        "rand_int=int(input('Enter the test case no you want to try'))\n",
        "print('Select a logic you also want  to check')\n",
        "logicgate=input()\n",
        "print(weights_ad)\n",
        "print('selected input is %d '%rand_int)\n",
        "print(X[rand_int])\n",
        "def check_learning(X,weights,rand_int):\n",
        "    Yin=0\n",
        "    for i in range(3):\n",
        "        Yin+=X[rand_int,i]*weights[i]\n",
        "    if Yin<0:\n",
        "        Yin=-1\n",
        "    else:\n",
        "        Yin=1\n",
        "    return Yin\n",
        "\n",
        "\n",
        "if logicgate=='a' or logicgate=='A':\n",
        "    weights_in=weights_ad\n",
        "else:\n",
        "    weights_in=weights_o\n",
        "Yin=check_learning(X,weights_in,rand_int)\n",
        "print(Yin)"
      ]
    }
  ],
  "metadata": {
    "accelerator": "GPU",
    "colab": {
      "collapsed_sections": [],
      "provenance": []
    },
    "kernelspec": {
      "display_name": "Python 3",
      "name": "python3"
    },
    "language_info": {
      "name": "python"
    }
  },
  "nbformat": 4,
  "nbformat_minor": 0
}
